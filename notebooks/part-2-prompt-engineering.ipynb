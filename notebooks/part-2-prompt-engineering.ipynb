{
 "cells": [
  {
   "cell_type": "markdown",
   "metadata": {},
   "source": [
    "# Part 2 - Prompt Engineering"
   ]
  },
  {
   "cell_type": "markdown",
   "metadata": {},
   "source": [
    "### Overview\n",
    "\n",
    "This notebook demonstrates using the general-purpose GPT model for text classification.\n",
    "\n",
    "The following steps are covered:\n",
    "* Creating system prompt\n",
    "* Using the Open AI ChatCompletion API\n",
    "* Testing text classification"
   ]
  },
  {
   "cell_type": "markdown",
   "metadata": {},
   "source": [
    "### Resources\n",
    "\n",
    "* https://platform.openai.com/docs/guides/prompt-engineering\n",
    "* https://platform.openai.com/docs/api-reference/chat\n"
   ]
  },
  {
   "cell_type": "code",
   "execution_count": 47,
   "metadata": {},
   "outputs": [],
   "source": [
    "# %pip install openai --upgrade\n",
    "# %pip show openai\n",
    "# %pip install tiktoken"
   ]
  },
  {
   "cell_type": "code",
   "execution_count": 48,
   "metadata": {},
   "outputs": [],
   "source": [
    "import pandas as pd\n",
    "from openai import OpenAI\n",
    "import os\n",
    "import json\n",
    "from src.util import distributionPreservingDownsample"
   ]
  },
  {
   "cell_type": "code",
   "execution_count": 49,
   "metadata": {},
   "outputs": [],
   "source": [
    "from dotenv import load_dotenv; load_dotenv()\n",
    "client = OpenAI(api_key=os.environ['OPENAI_API_KEY'])"
   ]
  },
  {
   "cell_type": "markdown",
   "metadata": {},
   "source": [
    "# Check Token Requirements\n",
    "\n",
    "Based on our expected completions, compute how many tokens are needed to encode those completions.  Then we set the `max_tokens` accordingly when using the API."
   ]
  },
  {
   "cell_type": "code",
   "execution_count": 50,
   "metadata": {},
   "outputs": [
    {
     "name": "stdout",
     "output_type": "stream",
     "text": [
      "Spam token count: 2\n",
      "Ham token count: 1\n"
     ]
    }
   ],
   "source": [
    "import tiktoken\n",
    "\n",
    "encoding = tiktoken.encoding_for_model(\"gpt-3.5-turbo-1106\")\n",
    "\n",
    "spamCompletion = 'Spam'\n",
    "hamCompletion = 'Ham'\n",
    "\n",
    "spamTokens = encoding.encode(spamCompletion)\n",
    "hamTokens = encoding.encode(hamCompletion)\n",
    "\n",
    "print(f'Spam token count: {len(spamTokens)}')\n",
    "print(f'Ham token count: {len(hamTokens)}')"
   ]
  },
  {
   "cell_type": "markdown",
   "metadata": {},
   "source": [
    "# Set Up API"
   ]
  },
  {
   "cell_type": "code",
   "execution_count": 51,
   "metadata": {},
   "outputs": [],
   "source": [
    "\n",
    "def isSpam(message, systemPrompts):\n",
    "    messages = [{\"role\": \"system\", \"content\": systemPrompt} for systemPrompt in systemPrompts]\n",
    "    messages.append({\"role\": \"user\", \"content\": message})\n",
    "    response = client.chat.completions.create(\n",
    "        model=\"gpt-3.5-turbo-1106\",\n",
    "        messages=messages,\n",
    "        temperature=0.5,\n",
    "        max_tokens=2\n",
    "    )\n",
    "    # print(\"Completion: {}\".format(response.choices[0]))\n",
    "    return response.choices[0].message.content == spamCompletion"
   ]
  },
  {
   "cell_type": "markdown",
   "metadata": {},
   "source": [
    "# Test a Couple Examples"
   ]
  },
  {
   "cell_type": "code",
   "execution_count": 52,
   "metadata": {},
   "outputs": [],
   "source": [
    "defaultSystemPrompt = \"\"\"\n",
    "You will be provided with a text message. \n",
    "You will need to classify the text message as spam, ham. \n",
    "Spam is a text message that is spam, harmful, abusive, or otherwise unwanted. \n",
    "Ham is a text message that is not spam. \n",
    "Response should be a single word: Spam or Ham.\n",
    "\"\"\""
   ]
  },
  {
   "cell_type": "code",
   "execution_count": 53,
   "metadata": {},
   "outputs": [
    {
     "data": {
      "text/plain": [
       "False"
      ]
     },
     "execution_count": 53,
     "metadata": {},
     "output_type": "execute_result"
    }
   ],
   "source": [
    "isSpam(\"Hey what's happening? Want to get some ramen?\", [defaultSystemPrompt])"
   ]
  },
  {
   "cell_type": "code",
   "execution_count": 54,
   "metadata": {},
   "outputs": [
    {
     "data": {
      "text/plain": [
       "True"
      ]
     },
     "execution_count": 54,
     "metadata": {},
     "output_type": "execute_result"
    }
   ],
   "source": [
    "isSpam(\"Do you need help recovering your lost crypto tokens? We recover quickly with full privacy. Please send your private key and we will get started.\", [defaultSystemPrompt])"
   ]
  },
  {
   "cell_type": "markdown",
   "metadata": {},
   "source": [
    "# Try some alternate prompts"
   ]
  },
  {
   "cell_type": "code",
   "execution_count": 55,
   "metadata": {},
   "outputs": [],
   "source": [
    "defaultSystemPrompt = \"\"\"\n",
    "You are a spam classifier. \n",
    "Your job is to examine the content of a message and determine if it is spam or ham. \n",
    "Spam is a message that is spam, harmful, abusive, an attempt to access private information, harrassment, or otherwise unwanted. \n",
    "Ham is any message that is not classified as spam.\n",
    "Response should be a single word: Spam or Ham.\n",
    "\"\"\"\n",
    "exampleSpam1 = 'Example Spam: \"Hey bro, are you looking for a quick way to double your money with crypto?\"'\n",
    "exampleSpam2 = 'Example Spam: \"This is the IRS. There is a warrant out for your arrest due to an unpaid balance of $75,000 USD. We have already contacted the Federal Marshalls with regards to this matter. Please call us back at 1-800-555-5555 with payment information available or you will go to jail.\"'\n"
   ]
  },
  {
   "cell_type": "code",
   "execution_count": 56,
   "metadata": {},
   "outputs": [
    {
     "data": {
      "text/plain": [
       "False"
      ]
     },
     "execution_count": 56,
     "metadata": {},
     "output_type": "execute_result"
    }
   ],
   "source": [
    "isSpam(\"Hey what's happening? Want to get some ramen?\", [defaultSystemPrompt, exampleSpam1, exampleSpam2])"
   ]
  },
  {
   "cell_type": "code",
   "execution_count": 57,
   "metadata": {},
   "outputs": [
    {
     "data": {
      "text/plain": [
       "True"
      ]
     },
     "execution_count": 57,
     "metadata": {},
     "output_type": "execute_result"
    }
   ],
   "source": [
    "isSpam(\"Do you need help recovering your lost crypto tokens? We recover quickly with full privacy. Please send your private key and we will get started.\", [defaultSystemPrompt, exampleSpam1, exampleSpam2])"
   ]
  },
  {
   "cell_type": "markdown",
   "metadata": {},
   "source": [
    "# Exercise\n",
    "\n",
    "Can you craft a message that is incorrectly classified by the detector?\n",
    "\n",
    "If so, can you update the prompt so it correctly classifies the message?"
   ]
  },
  {
   "cell_type": "code",
   "execution_count": null,
   "metadata": {},
   "outputs": [],
   "source": []
  }
 ],
 "metadata": {
  "kernelspec": {
   "display_name": "venv",
   "language": "python",
   "name": "python3"
  },
  "language_info": {
   "codemirror_mode": {
    "name": "ipython",
    "version": 3
   },
   "file_extension": ".py",
   "mimetype": "text/x-python",
   "name": "python",
   "nbconvert_exporter": "python",
   "pygments_lexer": "ipython3",
   "version": "3.11.3"
  }
 },
 "nbformat": 4,
 "nbformat_minor": 2
}
